{
 "cells": [
  {
   "cell_type": "markdown",
   "metadata": {},
   "source": [
    "# Fiting a SED"
   ]
  },
  {
   "cell_type": "code",
   "execution_count": 1,
   "metadata": {},
   "outputs": [],
   "source": [
    "import matplotlib.pyplot as plt\n",
    "import torch\n",
    "import sedpy\n",
    "import starduster\n",
    "from scipy.optimize import minimize\n",
    "\n",
    "torch.set_num_threads(1)\n",
    "torch.manual_seed(999);"
   ]
  },
  {
   "cell_type": "markdown",
   "metadata": {},
   "source": [
    "This tutorial demonstrates how to fit a SED. We start by building the SED model."
   ]
  },
  {
   "cell_type": "code",
   "execution_count": 2,
   "metadata": {},
   "outputs": [],
   "source": [
    "sed_model = starduster.MultiwavelengthSED.from_builtin()\n",
    "sed_model.configure(\n",
    "    pn_gp=starduster.GalaxyParameter(),\n",
    "    pn_sfh_disk=starduster.CompositeGrid(\n",
    "        starduster.InterpolatedSFH(), starduster.InterpolatedMH(),\n",
    "    ),\n",
    "    pn_sfh_bulge=starduster.CompositeGrid(\n",
    "        starduster.InterpolatedSFH(), starduster.InterpolatedMH(),\n",
    "    ),\n",
    "    flat_input=True,\n",
    ")"
   ]
  },
  {
   "cell_type": "markdown",
   "metadata": {},
   "source": [
    "We then create some mock photometric data. The easiest way to ouput filter fluxes is to use the transmission curves given by ``sedpy``."
   ]
  },
  {
   "cell_type": "code",
   "execution_count": 3,
   "metadata": {},
   "outputs": [],
   "source": [
    "band_names = [\n",
    "    'galex_FUV', 'galex_NUV',\n",
    "    'sdss_u0', 'sdss_g0', 'sdss_r0', 'sdss_i0', 'sdss_z0',\n",
    "    'twomass_J', 'twomass_H', 'twomass_Ks',\n",
    "    'wise_w1', 'wise_w2', 'wise_w3', 'wise_w4',\n",
    "    'herschel_pacs_100', 'herschel_pacs_160',\n",
    "    'herschel_spire_250', 'herschel_spire_350', 'herschel_spire_500'\n",
    "]\n",
    "filters = sedpy.observate.load_filters(band_names)\n",
    "redshift = 0.01\n",
    "distmod= 0.\n",
    "sed_model.configure(filters=filters, redshift=redshift, distmod=distmod, ab_mag=True)\n",
    "# Generate a random SED\n",
    "params_true = starduster.sample_effective_region(sed_model)\n",
    "with torch.no_grad():\n",
    "    mags = sed_model(params_true, return_ph=True)\n",
    "# We assume 0.1 mag error for every band\n",
    "mags_err = torch.full_like(mags, 0.1)"
   ]
  },
  {
   "cell_type": "markdown",
   "metadata": {},
   "source": [
    "The figure below shows the mock SED."
   ]
  },
  {
   "cell_type": "code",
   "execution_count": 4,
   "metadata": {},
   "outputs": [
    {
     "data": {
      "image/png": "[encoded data removed]",
      "text/plain": [
       "<Figure size 720x360 with 1 Axes>"
      ]
     },
     "metadata": {
      "needs_background": "light"
     },
     "output_type": "display_data"
    }
   ],
   "source": [
    "fig, ax = plt.subplots(figsize=(10, 5))\n",
    "\n",
    "lam_pivot = sed_model.lam_pivot.numpy()\n",
    "plt.errorbar(lam_pivot, mags.numpy(), mags_err.numpy(), fmt='ks')\n",
    "\n",
    "ax.set_xscale('log')\n",
    "ax.set_xlabel(r'$\\lambda \\, [\\rm \\mu m]$')\n",
    "ax.set_ylabel(r'$m_{\\rm AB}$')\n",
    "ax.set_xlim(.1, 1e3)\n",
    "ax.invert_yaxis()"
   ]
  },
  {
   "cell_type": "markdown",
   "metadata": {},
   "source": [
    "This next step is to build the posterior distribution. ``Posterior`` is callable, which provides a good interface for various optimisers and sampling tools."
   ]
  },
  {
   "cell_type": "code",
   "execution_count": 5,
   "metadata": {},
   "outputs": [],
   "source": [
    "error_func = starduster.Gaussian(mags, mags_err, norm=False)\n",
    "posterior = starduster.Posterior(sed_model, error_func)\n",
    "# Create the initial value for the optimiser\n",
    "eps = 0.1\n",
    "sampler = lambda n_samp: params_true + eps*(2*torch.rand(n_samp, len(params_true)) - 1)\n",
    "params_0 = starduster.sample_effective_region(sed_model, sampler=sampler)"
   ]
  },
  {
   "cell_type": "markdown",
   "metadata": {},
   "source": [
    "The following code uses the Adam optimiser given by PyTorch to fit the SED. This optimiser requires the first-order gradient."
   ]
  },
  {
   "cell_type": "code",
   "execution_count": 6,
   "metadata": {},
   "outputs": [
    {
     "name": "stderr",
     "output_type": "stream",
     "text": [
      "loss: 5.446e-03: 100%|██████████| 300/300 [00:05<00:00, 56.90it/s]\n"
     ]
    }
   ],
   "source": [
    "posterior.configure_output_mode(output_mode='torch', negative=True, log_out=0.)\n",
    "params_pred = starduster.optimize(\n",
    "    posterior, torch.optim.Adam, params_0, n_step=300, lr=1e-2\n",
    ")"
   ]
  },
  {
   "cell_type": "markdown",
   "metadata": {},
   "source": [
    "We may also use the Scipy LBFGS optimiser. We can pass the first-order gradient by setting ``jac=True``."
   ]
  },
  {
   "cell_type": "code",
   "execution_count": 7,
   "metadata": {},
   "outputs": [],
   "source": [
    "posterior.configure_output_mode(output_mode='numpy_grad', negative=True, log_out=0.)\n",
    "res_bfgs = minimize(\n",
    "    posterior, params_0.numpy(), bounds=posterior.bounds, method='L-BFGS-B', jac=True\n",
    ")\n",
    "params_bfgs = res_bfgs.x"
   ]
  },
  {
   "cell_type": "markdown",
   "metadata": {},
   "source": [
    "Additonaly, we can also employ a optimiser that does not require the gradient. The following output mode can also be applied to a MCMC sampler."
   ]
  },
  {
   "cell_type": "code",
   "execution_count": 8,
   "metadata": {},
   "outputs": [],
   "source": [
    "posterior.configure_output_mode(output_mode='numpy', negative=True)\n",
    "res_powell = minimize(\n",
    "    posterior, params_0.numpy(), bounds=posterior.bounds, method='Powell'\n",
    ")\n",
    "params_powell = res_powell.x"
   ]
  },
  {
   "cell_type": "markdown",
   "metadata": {},
   "source": [
    "We compare the results obtained by different optimisers as follows. The results are consistent."
   ]
  },
  {
   "cell_type": "code",
   "execution_count": 9,
   "metadata": {},
   "outputs": [
    {
     "name": "stdout",
     "output_type": "stream",
     "text": [
      "\tTrue\tAdam\tLBFGS\tPowell\n",
      "\t0.60\t0.69\t0.69\t0.79\n",
      "\t0.27\t0.31\t0.31\t0.31\n",
      "\t-0.16\t-0.24\t-0.24\t-0.23\n",
      "\t-0.14\t-0.14\t-0.14\t-0.14\n",
      "\t-0.39\t-0.38\t-0.38\t-0.39\n",
      "\t0.86\t0.86\t0.86\t0.86\n",
      "\t-0.93\t-0.93\t-0.93\t-0.90\n",
      "\t8.44\t8.44\t8.44\t8.44\n",
      "\t0.04\t0.06\t0.06\t0.08\n",
      "\t8.15\t8.12\t8.12\t8.36\n",
      "\t0.00\t-0.11\t-0.11\t-1.21\n"
     ]
    }
   ],
   "source": [
    "print(\"\\tTrue\\tAdam\\tLBFGS\\tPowell\")\n",
    "for params in zip(params_true, params_pred, params_bfgs, params_powell):\n",
    "    print(\"\\t%.2f\\t%.2f\\t%.2f\\t%.2f\"%params)"
   ]
  },
  {
   "cell_type": "markdown",
   "metadata": {},
   "source": [
    "The fitting result can be seen in the figure below."
   ]
  },
  {
   "cell_type": "code",
   "execution_count": 10,
   "metadata": {},
   "outputs": [
    {
     "data": {
      "image/png": "[encoded data removed]",
      "text/plain": [
       "<Figure size 720x360 with 1 Axes>"
      ]
     },
     "metadata": {
      "needs_background": "light"
     },
     "output_type": "display_data"
    }
   ],
   "source": [
    "# Compute the fitting result\n",
    "with torch.no_grad():\n",
    "    f_nu = sed_model(params_pred)\n",
    "    f_ab = -2.5*torch.log10(f_nu) + 8.9\n",
    "    mags_pred = sed_model(params_pred, return_ph=True)\n",
    "\n",
    "# Plot the result\n",
    "fig, ax = plt.subplots(figsize=(10, 5))\n",
    "\n",
    "plt.errorbar(lam_pivot, mags, mags_err.numpy(), fmt='ks')\n",
    "plt.plot(lam_pivot, mags_pred, 'ro', markersize=15, markerfacecolor='none')\n",
    "plt.plot(sed_model.lam, f_ab, 'r--')\n",
    "\n",
    "ax.set_xscale('log')\n",
    "ax.set_xlabel(r'$\\lambda \\, [\\rm \\mu m]$')\n",
    "ax.set_ylabel(r'$m_{\\rm AB}$')\n",
    "ax.set_xlim(.1, 1e3)\n",
    "ax.set_ylim(top=mags.numpy().max() + 1)\n",
    "ax.invert_yaxis()"
   ]
  }
 ],
 "metadata": {
  "kernelspec": {
   "display_name": "Python 3",
   "language": "python",
   "name": "python3"
  },
  "language_info": {
   "codemirror_mode": {
    "name": "ipython",
    "version": 3
   },
   "file_extension": ".py",
   "mimetype": "text/x-python",
   "name": "python",
   "nbconvert_exporter": "python",
   "pygments_lexer": "ipython3",
   "version": "3.7.3"
  }
 },
 "nbformat": 4,
 "nbformat_minor": 2
}
